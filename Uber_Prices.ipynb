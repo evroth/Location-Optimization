{
  "nbformat": 4,
  "nbformat_minor": 0,
  "metadata": {
    "colab": {
      "provenance": [],
      "authorship_tag": "ABX9TyPKP0Yoa3Jh0GTvFdiqgCoZ",
      "include_colab_link": true
    },
    "kernelspec": {
      "name": "python3",
      "display_name": "Python 3"
    },
    "language_info": {
      "name": "python"
    }
  },
  "cells": [
    {
      "cell_type": "markdown",
      "metadata": {
        "id": "view-in-github",
        "colab_type": "text"
      },
      "source": [
        "<a href=\"https://colab.research.google.com/github/evroth/location-optimization/blob/main/Uber_Prices.ipynb\" target=\"_parent\"><img src=\"https://colab.research.google.com/assets/colab-badge.svg\" alt=\"Open In Colab\"/></a>"
      ]
    },
    {
      "cell_type": "code",
      "execution_count": 8,
      "metadata": {
        "id": "wPVuHocNmxci"
      },
      "outputs": [],
      "source": [
        "import requests\n",
        "import json\n",
        "\n",
        "\n",
        "def get_ride_price(origin_latitude, origin_longitude, destination_latitude, destination_longitude):\n",
        "    url = \"https://www.uber.com/api/loadFEEstimates?localeCode=en\"\n",
        "\n",
        "    payload = json.dumps({\n",
        "      \"origin\": {\n",
        "        \"latitude\": origin_latitude,\n",
        "        \"longitude\": origin_longitude\n",
        "      },\n",
        "      \"destination\": {\n",
        "        \"latitude\": destination_latitude,\n",
        "        \"longitude\": destination_longitude\n",
        "      },\n",
        "      \"locale\": \"en\"\n",
        "    })\n",
        "    headers = {\n",
        "      'content-type': 'application/json',\n",
        "      'user-agent': 'Mozilla/5.0 (Windows NT 10.0; Win64; x64) AppleWebKit/537.36 (KHTML, like Gecko) Chrome/103.0.0.0 Safari/537.36',\n",
        "      'x-csrf-token': 'x'\n",
        "    }\n",
        "\n",
        "    response = requests.request(\"POST\", url, headers=headers, data=payload)\n",
        "    result = {x['vehicleViewDisplayName']: x['fareString'] for x in response.json()['data']['prices']}\n",
        "\n",
        "    # I want to add something to just reference the UberX price but it isn't always in the same location every time\n",
        "    UberX = result['UberX']\n",
        "    UberX= float(UberX[1:])  # remove the first character ('$') and convert to a float\n",
        "\n",
        "    return UberX"
      ]
    },
    {
      "cell_type": "code",
      "source": [
        "print(get_ride_price(51.5072178, -0.1275862, 51.4974948, -0.1356583))"
      ],
      "metadata": {
        "colab": {
          "base_uri": "https://localhost:8080/"
        },
        "id": "Ut0hBUW_n27K",
        "outputId": "e11ba0e0-df99-4cd2-e85c-5b731c21a3ef"
      },
      "execution_count": 2,
      "outputs": [
        {
          "output_type": "stream",
          "name": "stdout",
          "text": [
            "{'UberX': '£10.21', 'Assist': '£10.21', 'Access': '£10.21', 'Green': '£10.22', 'Comfort': '£12.45', 'UberXL': '£14.16', 'Uber Pet': '£15.35', 'Exec': '£16.75', 'Lux': '£22.47'}\n"
          ]
        }
      ]
    },
    {
      "cell_type": "code",
      "source": [
        "result = {'UberX': '£10.21', 'Assist': '£10.21', 'Access': '£10.21', 'Green': '£10.22', 'Comfort': '£12.45', 'UberXL': '£14.16', 'Uber Pet': '£15.35', 'Exec': '£16.75', 'Lux': '£22.47'}"
      ],
      "metadata": {
        "id": "DI0988Ovm3ud"
      },
      "execution_count": 3,
      "outputs": []
    },
    {
      "cell_type": "code",
      "source": [
        "# figuring out how to reference\n",
        "a = result['UberX']\n",
        "a = float(a[1:])\n",
        "print(a)"
      ],
      "metadata": {
        "colab": {
          "base_uri": "https://localhost:8080/"
        },
        "id": "vdVxMRzHm60L",
        "outputId": "b7dcb9fa-baf8-4498-edb0-1d238340972b"
      },
      "execution_count": 7,
      "outputs": [
        {
          "output_type": "stream",
          "name": "stdout",
          "text": [
            "10.21\n"
          ]
        }
      ]
    },
    {
      "cell_type": "code",
      "source": [
        "print(get_ride_price(47.447277, -122.3039276, 47.61828319569383, -122.19681018164148))"
      ],
      "metadata": {
        "colab": {
          "base_uri": "https://localhost:8080/"
        },
        "id": "qAgvaXdkm9e6",
        "outputId": "aafcce34-4ab0-47aa-8b10-95c8ba226dd4"
      },
      "execution_count": 9,
      "outputs": [
        {
          "output_type": "stream",
          "name": "stdout",
          "text": [
            "57.14\n"
          ]
        }
      ]
    },
    {
      "cell_type": "markdown",
      "source": [
        "Trying to make it so this function can work on our data frames"
      ],
      "metadata": {
        "id": "n7O8Z-ep0Tte"
      }
    },
    {
      "cell_type": "code",
      "source": [
        "import pandas as pd\n",
        "\n",
        "# create the data for the dataframe\n",
        "data = {\n",
        "    'number': [1, 2],\n",
        "    'origin_latitude': [37.7749, 40.7128],\n",
        "    'origin_longitude': [-122.4194, -74.0060],\n",
        "    'destination_latitude': [37.80274, 40.735497],\n",
        "    'destination_longitude': [-122.405819, -73.991876]\n",
        "}\n",
        "\n",
        "# create the dataframe\n",
        "df = pd.DataFrame(data)\n",
        "\n",
        "# print the dataframe\n",
        "print(df)\n",
        "\n",
        "# 40.73549701575964, -73.99187619577094"
      ],
      "metadata": {
        "colab": {
          "base_uri": "https://localhost:8080/"
        },
        "id": "rEZWPE3P0lbx",
        "outputId": "444d6b08-4483-4a53-c2fa-14126081e594"
      },
      "execution_count": 11,
      "outputs": [
        {
          "output_type": "stream",
          "name": "stdout",
          "text": [
            "   number  origin_latitude  origin_longitude  destination_latitude  \\\n",
            "0       1          37.7749         -122.4194             37.802740   \n",
            "1       2          40.7128          -74.0060             40.735497   \n",
            "\n",
            "   destination_longitude  \n",
            "0            -122.405819  \n",
            "1             -73.991876  \n"
          ]
        }
      ]
    },
    {
      "cell_type": "code",
      "source": [
        "# apply the get_ride_price function to each row of the dataframe\n",
        "df['ride_price'] = df.apply(lambda row: get_ride_price(row['origin_latitude'], row['origin_longitude'], \n",
        "                                                      row['destination_latitude'], row['destination_longitude']), axis=1)\n",
        "print(df)"
      ],
      "metadata": {
        "colab": {
          "base_uri": "https://localhost:8080/"
        },
        "id": "KCGi8pgr2ZtL",
        "outputId": "ed861d68-95f9-4aa4-d3cf-e62b983bc61d"
      },
      "execution_count": 12,
      "outputs": [
        {
          "output_type": "stream",
          "name": "stdout",
          "text": [
            "   number  origin_latitude  origin_longitude  destination_latitude  \\\n",
            "0       1          37.7749         -122.4194             37.802740   \n",
            "1       2          40.7128          -74.0060             40.735497   \n",
            "\n",
            "   destination_longitude  ride_price  \n",
            "0            -122.405819       14.95  \n",
            "1             -73.991876       24.29  \n"
          ]
        }
      ]
    }
  ]
}