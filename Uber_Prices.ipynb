{
  "nbformat": 4,
  "nbformat_minor": 0,
  "metadata": {
    "colab": {
      "provenance": [],
      "authorship_tag": "ABX9TyNmr1xrYjhUciIz0NwXh1Wg",
      "include_colab_link": true
    },
    "kernelspec": {
      "name": "python3",
      "display_name": "Python 3"
    },
    "language_info": {
      "name": "python"
    }
  },
  "cells": [
    {
      "cell_type": "markdown",
      "metadata": {
        "id": "view-in-github",
        "colab_type": "text"
      },
      "source": [
        "<a href=\"https://colab.research.google.com/github/evroth/location-optimization/blob/main/Uber_Prices.ipynb\" target=\"_parent\"><img src=\"https://colab.research.google.com/assets/colab-badge.svg\" alt=\"Open In Colab\"/></a>"
      ]
    },
    {
      "cell_type": "code",
      "execution_count": null,
      "metadata": {
        "id": "wPVuHocNmxci"
      },
      "outputs": [],
      "source": [
        "import requests\n",
        "import json\n",
        "\n",
        "\n",
        "def get_ride_price(origin_latitude, origin_longitude, destination_latitude, destination_longitude):\n",
        "    url = \"https://www.uber.com/api/loadFEEstimates?localeCode=en\"\n",
        "\n",
        "    payload = json.dumps({\n",
        "      \"origin\": {\n",
        "        \"latitude\": origin_latitude,\n",
        "        \"longitude\": origin_longitude\n",
        "      },\n",
        "      \"destination\": {\n",
        "        \"latitude\": destination_latitude,\n",
        "        \"longitude\": destination_longitude\n",
        "      },\n",
        "      \"locale\": \"en\"\n",
        "    })\n",
        "    headers = {\n",
        "      'content-type': 'application/json',\n",
        "      'user-agent': 'Mozilla/5.0 (Windows NT 10.0; Win64; x64) AppleWebKit/537.36 (KHTML, like Gecko) Chrome/103.0.0.0 Safari/537.36',\n",
        "      'x-csrf-token': 'x'\n",
        "    }\n",
        "\n",
        "    response = requests.request(\"POST\", url, headers=headers, data=payload)\n",
        "    result = [[x['vehicleViewDisplayName'], x['fareString']] for x in response.json()['data']['prices']]\n",
        "\n",
        "    # I want to add something to just reference the UberX price but it isn't always in the same location every time\n",
        "\n",
        "    return result"
      ]
    },
    {
      "cell_type": "code",
      "source": [
        "print(get_ride_price(51.5072178, -0.1275862, 51.4974948, -0.1356583))"
      ],
      "metadata": {
        "colab": {
          "base_uri": "https://localhost:8080/"
        },
        "id": "Ut0hBUW_n27K",
        "outputId": "c17e714a-39bc-483f-a61a-762217f23ac3"
      },
      "execution_count": 5,
      "outputs": [
        {
          "output_type": "stream",
          "name": "stdout",
          "text": [
            "[['UberX', '£8.87'], ['Assist', '£8.87'], ['Access', '£8.87'], ['Green', '£8.87'], ['Comfort', '£10.78'], ['UberXL', '£12.23'], ['Uber Pet', '£13.87'], ['Exec', '£14.91'], ['Lux', '£20.11']]\n"
          ]
        }
      ]
    },
    {
      "cell_type": "code",
      "source": [
        "result = [['UberX', '£8.44'], ['Green', '£8.44'], ['Assist', '£8.45'], ['Access', '£8.45'], ['Comfort', '£10.25'], ['UberXL', '£11.68'], ['Uber Pet', '£13.43'], ['Exec', '£14.11'], ['Lux', '£19.02']]"
      ],
      "metadata": {
        "id": "DI0988Ovm3ud"
      },
      "execution_count": 2,
      "outputs": []
    },
    {
      "cell_type": "code",
      "source": [
        "# figuring out how to reference\n",
        "result[['UberX']]"
      ],
      "metadata": {
        "id": "vdVxMRzHm60L"
      },
      "execution_count": null,
      "outputs": []
    },
    {
      "cell_type": "code",
      "source": [
        "print(get_ride_price(47.447277, -122.3039276, 47.61828319569383, -122.19681018164148))"
      ],
      "metadata": {
        "colab": {
          "base_uri": "https://localhost:8080/"
        },
        "id": "qAgvaXdkm9e6",
        "outputId": "046e46db-4efb-440b-e885-1d0b71fdc066"
      },
      "execution_count": 4,
      "outputs": [
        {
          "output_type": "stream",
          "name": "stdout",
          "text": [
            "[['WAV', '$49.05'], ['Connect', '$52.72'], ['UberX', '$55.99'], ['Uber Green', '$55.99'], ['Comfort', '$59.64'], ['Black Hourly', '$120.00'], ['Uber Pet', '$59.99'], ['Comfort Electric', '$65.61'], ['UberXL', '$70.00'], ['Black', '$80.18'], ['Black SUV', '$90.22']]\n"
          ]
        }
      ]
    }
  ]
}