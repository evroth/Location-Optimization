{
  "nbformat": 4,
  "nbformat_minor": 0,
  "metadata": {
    "colab": {
      "provenance": [],
      "authorship_tag": "ABX9TyPhDAWqYaVnqmZXSeSpbXko",
      "include_colab_link": true
    },
    "kernelspec": {
      "name": "python3",
      "display_name": "Python 3"
    },
    "language_info": {
      "name": "python"
    }
  },
  "cells": [
    {
      "cell_type": "markdown",
      "metadata": {
        "id": "view-in-github",
        "colab_type": "text"
      },
      "source": [
        "<a href=\"https://colab.research.google.com/github/evroth/location-optimization/blob/main/Uber_Prices.ipynb\" target=\"_parent\"><img src=\"https://colab.research.google.com/assets/colab-badge.svg\" alt=\"Open In Colab\"/></a>"
      ]
    },
    {
      "cell_type": "code",
      "execution_count": 8,
      "metadata": {
        "id": "wPVuHocNmxci"
      },
      "outputs": [],
      "source": [
        "import requests\n",
        "import json\n",
        "\n",
        "\n",
        "def get_ride_price(origin_latitude, origin_longitude, destination_latitude, destination_longitude):\n",
        "    url = \"https://www.uber.com/api/loadFEEstimates?localeCode=en\"\n",
        "\n",
        "    payload = json.dumps({\n",
        "      \"origin\": {\n",
        "        \"latitude\": origin_latitude,\n",
        "        \"longitude\": origin_longitude\n",
        "      },\n",
        "      \"destination\": {\n",
        "        \"latitude\": destination_latitude,\n",
        "        \"longitude\": destination_longitude\n",
        "      },\n",
        "      \"locale\": \"en\"\n",
        "    })\n",
        "    headers = {\n",
        "      'content-type': 'application/json',\n",
        "      'user-agent': 'Mozilla/5.0 (Windows NT 10.0; Win64; x64) AppleWebKit/537.36 (KHTML, like Gecko) Chrome/103.0.0.0 Safari/537.36',\n",
        "      'x-csrf-token': 'x'\n",
        "    }\n",
        "\n",
        "    response = requests.request(\"POST\", url, headers=headers, data=payload)\n",
        "    result = {x['vehicleViewDisplayName']: x['fareString'] for x in response.json()['data']['prices']}\n",
        "\n",
        "    # I want to add something to just reference the UberX price but it isn't always in the same location every time\n",
        "    UberX = result['UberX']\n",
        "    UberX= float(UberX[1:])  # remove the first character ('$') and convert to a float\n",
        "\n",
        "    return UberX"
      ]
    },
    {
      "cell_type": "code",
      "source": [
        "print(get_ride_price(51.5072178, -0.1275862, 51.4974948, -0.1356583))"
      ],
      "metadata": {
        "colab": {
          "base_uri": "https://localhost:8080/"
        },
        "id": "Ut0hBUW_n27K",
        "outputId": "e11ba0e0-df99-4cd2-e85c-5b731c21a3ef"
      },
      "execution_count": 2,
      "outputs": [
        {
          "output_type": "stream",
          "name": "stdout",
          "text": [
            "{'UberX': '£10.21', 'Assist': '£10.21', 'Access': '£10.21', 'Green': '£10.22', 'Comfort': '£12.45', 'UberXL': '£14.16', 'Uber Pet': '£15.35', 'Exec': '£16.75', 'Lux': '£22.47'}\n"
          ]
        }
      ]
    },
    {
      "cell_type": "code",
      "source": [
        "result = {'UberX': '£10.21', 'Assist': '£10.21', 'Access': '£10.21', 'Green': '£10.22', 'Comfort': '£12.45', 'UberXL': '£14.16', 'Uber Pet': '£15.35', 'Exec': '£16.75', 'Lux': '£22.47'}"
      ],
      "metadata": {
        "id": "DI0988Ovm3ud"
      },
      "execution_count": 3,
      "outputs": []
    },
    {
      "cell_type": "code",
      "source": [
        "# figuring out how to reference\n",
        "a = result['UberX']\n",
        "a = float(a[1:])\n",
        "print(a)"
      ],
      "metadata": {
        "colab": {
          "base_uri": "https://localhost:8080/"
        },
        "id": "vdVxMRzHm60L",
        "outputId": "b7dcb9fa-baf8-4498-edb0-1d238340972b"
      },
      "execution_count": 7,
      "outputs": [
        {
          "output_type": "stream",
          "name": "stdout",
          "text": [
            "10.21\n"
          ]
        }
      ]
    },
    {
      "cell_type": "code",
      "source": [
        "print(get_ride_price(47.447277, -122.3039276, 47.61828319569383, -122.19681018164148))"
      ],
      "metadata": {
        "colab": {
          "base_uri": "https://localhost:8080/"
        },
        "id": "qAgvaXdkm9e6",
        "outputId": "aafcce34-4ab0-47aa-8b10-95c8ba226dd4"
      },
      "execution_count": 9,
      "outputs": [
        {
          "output_type": "stream",
          "name": "stdout",
          "text": [
            "57.14\n"
          ]
        }
      ]
    }
  ]
}