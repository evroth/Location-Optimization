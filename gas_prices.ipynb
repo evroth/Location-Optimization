{
  "nbformat": 4,
  "nbformat_minor": 0,
  "metadata": {
    "colab": {
      "provenance": [],
      "authorship_tag": "ABX9TyOq08tWMkHcTdCal7K6LYPM",
      "include_colab_link": true
    },
    "kernelspec": {
      "name": "python3",
      "display_name": "Python 3"
    },
    "language_info": {
      "name": "python"
    }
  },
  "cells": [
    {
      "cell_type": "markdown",
      "metadata": {
        "id": "view-in-github",
        "colab_type": "text"
      },
      "source": [
        "<a href=\"https://colab.research.google.com/github/evroth/Location-Optimization/blob/main/gas_prices.ipynb\" target=\"_parent\"><img src=\"https://colab.research.google.com/assets/colab-badge.svg\" alt=\"Open In Colab\"/></a>"
      ]
    },
    {
      "cell_type": "markdown",
      "source": [
        "**Create function to fetch gas prices**\n",
        "\n",
        "\n",
        "Make sure zip code is a string"
      ],
      "metadata": {
        "id": "FMIlQTyo1lK7"
      }
    },
    {
      "cell_type": "code",
      "execution_count": 1,
      "metadata": {
        "colab": {
          "base_uri": "https://localhost:8080/"
        },
        "id": "S3XPslGU1WQ8",
        "outputId": "b21ffdc4-3743-46a6-ea77-3643dfdb9fd4"
      },
      "outputs": [
        {
          "output_type": "stream",
          "name": "stdout",
          "text": [
            "  postal_code  Gas Price\n",
            "0       90210      5.202\n",
            "1       93405      4.938\n",
            "2       95757      4.630\n"
          ]
        }
      ],
      "source": [
        "import requests\n",
        "from bs4 import BeautifulSoup\n",
        "import pandas as pd\n",
        "\n",
        "def get_gas_price(df, column_name):\n",
        "    all_gas_prices = [] # list to store all gas prices from all zipcodes\n",
        "    for zipcode in df[column_name]:\n",
        "        url = \"https://www.autoblog.com/\" + zipcode + \"-gas-prices/\"\n",
        "        response = requests.get(url)\n",
        "        soup = BeautifulSoup(response.content, 'html.parser')\n",
        "        results = soup.find(id=\"shops-map\")\n",
        "        gasprice = results.find_all(\"li\", class_=\"slab price\")\n",
        "        values = [float(item.find(\"data\")[\"value\"]) for item in gasprice]\n",
        "        avg_price = sum(values)/len(values)\n",
        "        all_gas_prices.append(avg_price)\n",
        "    df['Gas Price'] = all_gas_prices\n",
        "    return df\n",
        "\n",
        "# Example usage\n",
        "zipcodes_df = pd.DataFrame({'postal_code': ['90210', '93405', '95757']})\n",
        "result_df = get_gas_price(zipcodes_df, 'postal_code')\n",
        "print(result_df)"
      ]
    },
    {
      "cell_type": "markdown",
      "source": [
        "example usage:"
      ],
      "metadata": {
        "id": "J-KOB0kJ2pS4"
      }
    },
    {
      "cell_type": "code",
      "source": [
        "employees = get_gas_price(employees,\"postal_code\")\n",
        "print(employees)"
      ],
      "metadata": {
        "id": "xNuC4A-w2bUG"
      },
      "execution_count": null,
      "outputs": []
    }
  ]
}